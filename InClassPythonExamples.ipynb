{
 "cells": [
  {
   "cell_type": "code",
   "execution_count": 20,
   "id": "5ca88f76-f954-41f7-8ef0-10fc0f982968",
   "metadata": {},
   "outputs": [],
   "source": [
    "# f before the string being returned means FORMAT \n",
    "# it allows you to format the string to how you want it displayed\n",
    "def greeting(name, greeting = \"Hello\"):\n",
    "    \"\"\"Returns a string of the given name greeted by the given message\"\"\"\n",
    "    return f\"{greeting}, {name}\""
   ]
  },
  {
   "cell_type": "code",
   "execution_count": 5,
   "id": "2128ea5d-cba9-4970-bb54-5d565503238d",
   "metadata": {},
   "outputs": [
    {
     "data": {
      "text/plain": [
       "'Hello, World'"
      ]
     },
     "execution_count": 5,
     "metadata": {},
     "output_type": "execute_result"
    }
   ],
   "source": [
    "greeting(\"World\")"
   ]
  },
  {
   "cell_type": "code",
   "execution_count": 6,
   "id": "8887d54c-db4d-43d2-bcb9-8e9523f99d88",
   "metadata": {},
   "outputs": [],
   "source": [
    "name = \"python\"\n",
    "ide = 'jupyter'\n",
    "num = 3"
   ]
  },
  {
   "cell_type": "code",
   "execution_count": 10,
   "id": "f782d454-424b-4f03-afdf-c771221439e9",
   "metadata": {},
   "outputs": [
    {
     "ename": "TypeError",
     "evalue": "can only concatenate str (not \"int\") to str",
     "output_type": "error",
     "traceback": [
      "\u001b[1;31m---------------------------------------------------------------------------\u001b[0m",
      "\u001b[1;31mTypeError\u001b[0m                                 Traceback (most recent call last)",
      "\u001b[1;32m<ipython-input-10-4701d38e0283>\u001b[0m in \u001b[0;36m<module>\u001b[1;34m\u001b[0m\n\u001b[1;32m----> 1\u001b[1;33m \u001b[0mname\u001b[0m \u001b[1;33m+\u001b[0m \u001b[0mide\u001b[0m \u001b[1;33m+\u001b[0m \u001b[1;36m5\u001b[0m\u001b[1;33m\u001b[0m\u001b[1;33m\u001b[0m\u001b[0m\n\u001b[0m",
      "\u001b[1;31mTypeError\u001b[0m: can only concatenate str (not \"int\") to str"
     ]
    }
   ],
   "source": [
    "name + ide + 3"
   ]
  },
  {
   "cell_type": "code",
   "execution_count": 26,
   "id": "f05f9f72-e4dd-4afc-8f34-fc39c49bcd4e",
   "metadata": {},
   "outputs": [
    {
     "ename": "IndexError",
     "evalue": "Replacement index 0 out of range for positional args tuple",
     "output_type": "error",
     "traceback": [
      "\u001b[1;31m---------------------------------------------------------------------------\u001b[0m",
      "\u001b[1;31mIndexError\u001b[0m                                Traceback (most recent call last)",
      "\u001b[1;32m<ipython-input-26-16dcce18a1fb>\u001b[0m in \u001b[0;36m<module>\u001b[1;34m\u001b[0m\n\u001b[0;32m      8\u001b[0m \u001b[0mtemplate\u001b[0m \u001b[1;33m=\u001b[0m \u001b[1;34m\"{} {} on {}\"\u001b[0m\u001b[1;33m\u001b[0m\u001b[1;33m\u001b[0m\u001b[0m\n\u001b[0;32m      9\u001b[0m \u001b[0mtemplate\u001b[0m\u001b[1;33m.\u001b[0m\u001b[0mformat\u001b[0m\u001b[1;33m(\u001b[0m\u001b[0mname\u001b[0m\u001b[1;33m,\u001b[0m \u001b[0mnum\u001b[0m\u001b[1;33m,\u001b[0m \u001b[0mide\u001b[0m\u001b[1;33m)\u001b[0m\u001b[1;33m\u001b[0m\u001b[1;33m\u001b[0m\u001b[0m\n\u001b[1;32m---> 10\u001b[1;33m \u001b[0mprint\u001b[0m\u001b[1;33m(\u001b[0m\u001b[0mtemplate\u001b[0m\u001b[1;33m.\u001b[0m\u001b[0mformat\u001b[0m\u001b[1;33m(\u001b[0m\u001b[0mide\u001b[0m\u001b[1;33m=\u001b[0m\u001b[0mide\u001b[0m\u001b[1;33m,\u001b[0m \u001b[0mlanguage\u001b[0m\u001b[1;33m=\u001b[0m\u001b[0mname\u001b[0m\u001b[1;33m,\u001b[0m \u001b[0mversion\u001b[0m\u001b[1;33m=\u001b[0m\u001b[0mnum\u001b[0m\u001b[1;33m)\u001b[0m\u001b[1;33m)\u001b[0m\u001b[1;33m\u001b[0m\u001b[1;33m\u001b[0m\u001b[0m\n\u001b[0m\u001b[0;32m     11\u001b[0m \u001b[1;33m\u001b[0m\u001b[0m\n\u001b[0;32m     12\u001b[0m \u001b[1;34mf\"{name} {int(9/3)} on {ide}\"\u001b[0m\u001b[1;33m\u001b[0m\u001b[1;33m\u001b[0m\u001b[0m\n",
      "\u001b[1;31mIndexError\u001b[0m: Replacement index 0 out of range for positional args tuple"
     ]
    }
   ],
   "source": [
    "name = \"python\"\n",
    "ide = 'jupyter'\n",
    "num = 3\n",
    "# can manually format the string or you can use template to pre-format it\n",
    "# or you can use f\"{} {} {}\" to print it\n",
    "# name + str(num) + ide \n",
    "#print (name + \" \" + str(num) + \" \" + ide)\n",
    "template = \"{} {} on {}\"\n",
    "template.format(name, num, ide)\n",
    "print(template.format(ide=ide, language=name, version=num))\n",
    "\n",
    "f\"{name} {int(9/3)} on {ide}\""
   ]
  },
  {
   "cell_type": "code",
   "execution_count": 27,
   "id": "ee9b3c5c-d321-4100-9600-a36e7524f95d",
   "metadata": {},
   "outputs": [
    {
     "name": "stdout",
     "output_type": "stream",
     "text": [
      "(1, 2, 3) 42 Hello False\n"
     ]
    }
   ],
   "source": [
    "print((1,2,3), 42, \"Hello\", False)"
   ]
  },
  {
   "cell_type": "code",
   "execution_count": 29,
   "id": "6395d1d8-bdd0-45b5-b286-d7221385dd43",
   "metadata": {},
   "outputs": [
    {
     "name": "stdin",
     "output_type": "stream",
     "text": [
      "Enter your age:  23\n"
     ]
    },
    {
     "data": {
      "text/plain": [
       "'23'"
      ]
     },
     "execution_count": 29,
     "metadata": {},
     "output_type": "execute_result"
    }
   ],
   "source": [
    "age = input(\"Enter your age: \")\n",
    "age"
   ]
  },
  {
   "cell_type": "code",
   "execution_count": 31,
   "id": "0ae09993-01e8-45e4-a172-2ed221f8841f",
   "metadata": {},
   "outputs": [
    {
     "name": "stdout",
     "output_type": "stream",
     "text": [
      "You are young\n"
     ]
    }
   ],
   "source": [
    "if (int(age)<30):\n",
    "    print(\"You are young\")\n",
    "else:\n",
    "    print(\"You are old\")"
   ]
  },
  {
   "cell_type": "code",
   "execution_count": 36,
   "id": "998af359-97d5-40ca-abe8-05fc0ce5da07",
   "metadata": {},
   "outputs": [
    {
     "ename": "SyntaxError",
     "evalue": "invalid syntax (<ipython-input-36-c975c55d23e3>, line 5)",
     "output_type": "error",
     "traceback": [
      "\u001b[1;36m  File \u001b[1;32m\"<ipython-input-36-c975c55d23e3>\"\u001b[1;36m, line \u001b[1;32m5\u001b[0m\n\u001b[1;33m    def greeting2(name, greeting = \"Hello\"): -> str: # this is documentation syntax\u001b[0m\n\u001b[1;37m                                             ^\u001b[0m\n\u001b[1;31mSyntaxError\u001b[0m\u001b[1;31m:\u001b[0m invalid syntax\n"
     ]
    }
   ],
   "source": [
    "name = \"python\"\n",
    "ide = 'jupyter'\n",
    "num = 3\n",
    "\n",
    "def greeting(name, greeting = \"Hello\"): -> str: # this is documentation syntax\n",
    "    \"\"\"Returns a string of the given name greeted by the given message\"\"\"\n",
    "    return f\"{greeting}, {name}\""
   ]
  },
  {
   "cell_type": "code",
   "execution_count": 38,
   "id": "443dcc27-e696-4823-8d2f-8bd5e4e8ef2a",
   "metadata": {},
   "outputs": [
    {
     "data": {
      "text/plain": [
       "'Hello, World'"
      ]
     },
     "execution_count": 38,
     "metadata": {},
     "output_type": "execute_result"
    }
   ],
   "source": [
    "greeting(\"World\")"
   ]
  },
  {
   "cell_type": "code",
   "execution_count": 42,
   "id": "7488e964-86b3-4771-9bc7-2cdf0f274e7b",
   "metadata": {},
   "outputs": [
    {
     "name": "stdout",
     "output_type": "stream",
     "text": [
      "[] is false\n"
     ]
    }
   ],
   "source": [
    "# 0=false, 1=true, [] = false, None = false\n",
    "condition = []\n",
    "if (condition): print(f\"{condition} is true\")\n",
    "else: print(f\"{condition} is false\")"
   ]
  },
  {
   "cell_type": "code",
   "execution_count": 43,
   "id": "f60f7bb7-5808-49ac-a1f6-233578451442",
   "metadata": {},
   "outputs": [
    {
     "data": {
      "text/plain": [
       "function"
      ]
     },
     "execution_count": 43,
     "metadata": {},
     "output_type": "execute_result"
    }
   ],
   "source": [
    "# type() tells you what type something is (i.e. int, str, function, etc.)\n",
    "type(greeting)"
   ]
  },
  {
   "cell_type": "code",
   "execution_count": 44,
   "id": "7e4ee6c5-d452-4a52-a59e-a824f29d4865",
   "metadata": {},
   "outputs": [
    {
     "ename": "NameError",
     "evalue": "name 'x' is not defined",
     "output_type": "error",
     "traceback": [
      "\u001b[1;31m---------------------------------------------------------------------------\u001b[0m",
      "\u001b[1;31mNameError\u001b[0m                                 Traceback (most recent call last)",
      "\u001b[1;32m<ipython-input-44-c443b29f758e>\u001b[0m in \u001b[0;36m<module>\u001b[1;34m\u001b[0m\n\u001b[0;32m      1\u001b[0m \u001b[1;31m# del removes the reference to a variable\u001b[0m\u001b[1;33m\u001b[0m\u001b[1;33m\u001b[0m\u001b[1;33m\u001b[0m\u001b[0m\n\u001b[1;32m----> 2\u001b[1;33m \u001b[1;32mdel\u001b[0m \u001b[0mx\u001b[0m\u001b[1;33m\u001b[0m\u001b[1;33m\u001b[0m\u001b[0m\n\u001b[0m",
      "\u001b[1;31mNameError\u001b[0m: name 'x' is not defined"
     ]
    }
   ],
   "source": [
    "# del removes the reference to a variable\n",
    "del x "
   ]
  },
  {
   "cell_type": "code",
   "execution_count": 58,
   "id": "43cd8288-8500-48dd-b2a4-55d35db1c1b4",
   "metadata": {},
   "outputs": [
    {
     "data": {
      "text/plain": [
       "['apple', 'orange', 'mango', 'cherry', 'mango', 'blueberry', 'pineapple']"
      ]
     },
     "execution_count": 58,
     "metadata": {},
     "output_type": "execute_result"
    }
   ],
   "source": [
    "# four collection types. List, set, tuble, dictionary\n",
    "# list\n",
    "#Ordered, indexed, mutable, allows duplicates\n",
    "\n",
    "mixed_list = [1, \"hello\", 4, 4.5, [1,2,3], False]\n",
    "fruits = ['apple', 'orange', 'mango', 'elderberry']\n",
    "fruits[2]\n",
    "fruits[3]= 'cherry'\n",
    "fruits.append(\"mango\")\n",
    "fruits[1:4]\n",
    "fruits[:-1:2]\n",
    "fruits.extend(['blueberry', 'pineapple'])\n",
    "fruits"
   ]
  },
  {
   "cell_type": "code",
   "execution_count": 67,
   "id": "ee3e8892-ce96-4230-8284-06c14900becd",
   "metadata": {},
   "outputs": [
    {
     "data": {
      "text/plain": [
       "{1, 2, 3, 4, 5, 6}"
      ]
     },
     "execution_count": 67,
     "metadata": {},
     "output_type": "execute_result"
    }
   ],
   "source": [
    "#set\n",
    "#sets  are unordered, unindexed, mutable, and dont allow duplicates\n",
    "s1 = {1,2,3,4,5,5,5,5,5,5,5,5}\n",
    "s1.add(6)\n",
    "s1.add(2)\n",
    "s1"
   ]
  },
  {
   "cell_type": "code",
   "execution_count": 59,
   "id": "a03e7976-6311-4960-a339-715765678bee",
   "metadata": {},
   "outputs": [
    {
     "data": {
      "text/plain": [
       "('apple', 'orange', 'mango', 'elderberry')"
      ]
     },
     "execution_count": 59,
     "metadata": {},
     "output_type": "execute_result"
    }
   ],
   "source": [
    "#tuble\n",
    "#tubles and lists are the same other than the fact that you cannot \n",
    "#change/mutate them\n",
    "# Ordered, indexed, immutable, allows duplicates\n",
    "\n",
    "\n",
    "mixed_tuple = (1, \"hello\", 4, 4.5, [1,2,3], False)\n",
    "fruits = ('apple', 'orange', 'mango', 'elderberry')\n",
    "# fruits[2]\n",
    "# fruits[3]= 'cherry'\n",
    "# fruits.append(\"mango\")\n",
    "fruits[1:4]\n",
    "fruits[:-1:2]\n",
    "# fruits.extend(['blueberry', 'pineapple'])\n",
    "fruits"
   ]
  },
  {
   "cell_type": "code",
   "execution_count": 60,
   "id": "c8437071-c976-4b4c-9253-d7eb8902095b",
   "metadata": {},
   "outputs": [
    {
     "name": "stdout",
     "output_type": "stream",
     "text": [
      "(1, 2, 3) (4, 5, 6) (1, 2, 3, 4, 5, 6)\n"
     ]
    }
   ],
   "source": [
    "#tuble cont.\n",
    "tuble1 = (1,2,3)\n",
    "tuble2 = (4,5,6)\n",
    "tuble3 = tuble1+tuble2\n",
    "print(tuble1, tuble2, tuble3)"
   ]
  },
  {
   "cell_type": "code",
   "execution_count": 69,
   "id": "edece631-991e-4263-aadc-a7e1676bfb60",
   "metadata": {},
   "outputs": [
    {
     "data": {
      "text/plain": [
       "{'name': 'Hello World',\n",
       " 'number': 42,\n",
       " 3: True,\n",
       " True: True,\n",
       " 'dictionary': {'a': 1, 'b': 2},\n",
       " 'list': [1, 2, 3]}"
      ]
     },
     "execution_count": 69,
     "metadata": {},
     "output_type": "execute_result"
    }
   ],
   "source": [
    "#dictionary\n",
    "#Unordered, Key/Value Pairs, Mutable\n",
    "# format for contentents is: \n",
    "#      key:value\n",
    "d1 = {\n",
    "    \"name\":\"Hello World\",\n",
    "    \"number\": 42,\n",
    "    3: True,\n",
    "    True: True,\n",
    "    \"dictionary\":{\n",
    "        \"a\":1,\n",
    "        \"b\":2\n",
    "    },\n",
    "    \"list\" : [1,2,3]\n",
    "}\n",
    "d1"
   ]
  },
  {
   "cell_type": "code",
   "execution_count": 74,
   "id": "58782407-919e-4c17-bd35-73b29e743fc6",
   "metadata": {},
   "outputs": [
    {
     "data": {
      "text/plain": [
       "dict_items([('name', 'Hello World'), ('number', 12), (3, True), (True, True), ('dictionary', {'a': 1, 'b': 2}), ('list', [1, 2, 3]), ('condition', True)])"
      ]
     },
     "execution_count": 74,
     "metadata": {},
     "output_type": "execute_result"
    }
   ],
   "source": [
    "#how to change a value\n",
    "d1[\"number\"] = 12\n",
    "#how to extract a value\n",
    "d1[\"list\"]\n",
    "#how to add a value\n",
    "d1[\"condition\"] = True\n",
    "d1\n",
    "#how to return all keys\n",
    "d1.keys()\n",
    "#how to return all values\n",
    "d1.values()\n",
    "#how to return all items\n",
    "d1.items()"
   ]
  },
  {
   "cell_type": "code",
   "execution_count": 77,
   "id": "c877cde1-6f09-44c1-92e9-2576796178e5",
   "metadata": {},
   "outputs": [
    {
     "ename": "SyntaxError",
     "evalue": "invalid syntax (<ipython-input-77-abf36729a48f>, line 3)",
     "output_type": "error",
     "traceback": [
      "\u001b[1;36m  File \u001b[1;32m\"<ipython-input-77-abf36729a48f>\"\u001b[1;36m, line \u001b[1;32m3\u001b[0m\n\u001b[1;33m    i++\u001b[0m\n\u001b[1;37m       ^\u001b[0m\n\u001b[1;31mSyntaxError\u001b[0m\u001b[1;31m:\u001b[0m invalid syntax\n"
     ]
    }
   ],
   "source": [
    "i = 1\n",
    "i += 1\n",
    "# i++ doesnt exist in python\n",
    "i"
   ]
  },
  {
   "cell_type": "code",
   "execution_count": 79,
   "id": "75df8254-a896-4d75-be68-0247ed92146a",
   "metadata": {},
   "outputs": [
    {
     "data": {
      "text/plain": [
       "False"
      ]
     },
     "execution_count": 79,
     "metadata": {},
     "output_type": "execute_result"
    }
   ],
   "source": [
    "# if comparing strings using >/< it compares them alphabetically\n",
    "\"cherry\"> \"banana\" # = True\n",
    "\"apple\"> \"banana\" # = False"
   ]
  },
  {
   "cell_type": "code",
   "execution_count": 99,
   "id": "599c0ee3-d442-4d0d-89a5-8b07533e7ee0",
   "metadata": {},
   "outputs": [
    {
     "data": {
      "text/plain": [
       "True"
      ]
     },
     "execution_count": 99,
     "metadata": {},
     "output_type": "execute_result"
    }
   ],
   "source": [
    "#operators\n",
    "# if comparing lists, it will go though until it finds a different variable\n",
    "[1,2,5]>[1,2,3] # = true\n",
    "[1,2,3]>[1,2,3] # = false\n",
    "[1,2,5]<[1,2,3] # = false\n",
    "[1,2,3]>=[1,2,3] # = true\n",
    "[1,2,2]<[1,2,3] # = true\n",
    "\n",
    "\"3\" == \"3\" # = true\n",
    "not False or False # = true\n",
    "5 in [1,2,3] # = false\n",
    "5 not in [1,2,3] # = true\n",
    "x = 3\n",
    "y = 3\n",
    "y is x # = true\n",
    "x == y  # = true\n",
    "x1 = [1,2,3]\n",
    "y1 = [1,2,3]\n",
    "x1 == y1  # = true\n",
    "x1 is y1 # = false because they are not pointing to the same object\n",
    "z = x\n",
    "x is z  # = true because pointing to same object"
   ]
  },
  {
   "cell_type": "code",
   "execution_count": 104,
   "id": "12b0859b-3da9-448d-9e94-3f311cdbff18",
   "metadata": {},
   "outputs": [
    {
     "name": "stdout",
     "output_type": "stream",
     "text": [
      "even\n"
     ]
    },
    {
     "data": {
      "text/plain": [
       "'Greater than 10'"
      ]
     },
     "execution_count": 104,
     "metadata": {},
     "output_type": "execute_result"
    }
   ],
   "source": [
    "number = 12\n",
    "print(\"even\") if number %2 == 0 else print(\"odd\")\n",
    "message = \"Greater than 10\" if number > 10 else print(\"Less than 10\")\n",
    "message"
   ]
  },
  {
   "cell_type": "code",
   "execution_count": 107,
   "id": "e8e3854a-3435-47b9-a146-6a54aa0bd31f",
   "metadata": {},
   "outputs": [
    {
     "name": "stdout",
     "output_type": "stream",
     "text": [
      "After Empty Block\n"
     ]
    }
   ],
   "source": [
    "# pass declares an empty block\n",
    "if number: pass\n",
    "print(\"After Empty Block\")\n",
    "def some_function(): pass\n",
    "some_function()"
   ]
  },
  {
   "cell_type": "code",
   "execution_count": 106,
   "id": "8877e135-6b04-41c8-a8a3-9ebfb90eb962",
   "metadata": {},
   "outputs": [],
   "source": []
  }
 ],
 "metadata": {
  "kernelspec": {
   "display_name": "Python 3",
   "language": "python",
   "name": "python3"
  },
  "language_info": {
   "codemirror_mode": {
    "name": "ipython",
    "version": 3
   },
   "file_extension": ".py",
   "mimetype": "text/x-python",
   "name": "python",
   "nbconvert_exporter": "python",
   "pygments_lexer": "ipython3",
   "version": "3.8.8"
  }
 },
 "nbformat": 4,
 "nbformat_minor": 5
}

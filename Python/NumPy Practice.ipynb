{
 "cells": [
  {
   "cell_type": "code",
   "execution_count": 4,
   "id": "b327844c",
   "metadata": {},
   "outputs": [
    {
     "name": "stdout",
     "output_type": "stream",
     "text": [
      "Hello NumPy\n"
     ]
    }
   ],
   "source": [
    "print(\"Hello NumPy\")"
   ]
  },
  {
   "cell_type": "code",
   "execution_count": 5,
   "id": "7da0403a",
   "metadata": {},
   "outputs": [
    {
     "data": {
      "text/plain": [
       "42"
      ]
     },
     "execution_count": 5,
     "metadata": {},
     "output_type": "execute_result"
    }
   ],
   "source": [
    "2+8*5"
   ]
  },
  {
   "cell_type": "markdown",
   "id": "45bb5640",
   "metadata": {},
   "source": [
    "### This is just basic text.\n",
    "this is a markdown"
   ]
  },
  {
   "cell_type": "markdown",
   "id": "563e4895",
   "metadata": {},
   "source": [
    "02_01 Array Types and conversions between types"
   ]
  },
  {
   "cell_type": "code",
   "execution_count": 6,
   "id": "8551de26",
   "metadata": {},
   "outputs": [],
   "source": [
    "import numpy as np"
   ]
  },
  {
   "cell_type": "code",
   "execution_count": 7,
   "id": "08fb1ab6",
   "metadata": {},
   "outputs": [],
   "source": [
    "integers=np.array([10,20,30,40,50])"
   ]
  },
  {
   "cell_type": "code",
   "execution_count": 9,
   "id": "eccb7baf",
   "metadata": {},
   "outputs": [
    {
     "name": "stdout",
     "output_type": "stream",
     "text": [
      "[10 20 30 40 50]\n"
     ]
    }
   ],
   "source": [
    "print(integers)"
   ]
  },
  {
   "cell_type": "code",
   "execution_count": 11,
   "id": "7a0977f0",
   "metadata": {},
   "outputs": [
    {
     "data": {
      "text/plain": [
       "10"
      ]
     },
     "execution_count": 11,
     "metadata": {},
     "output_type": "execute_result"
    }
   ],
   "source": [
    "integers[0]"
   ]
  },
  {
   "cell_type": "code",
   "execution_count": 13,
   "id": "216b5e8a",
   "metadata": {},
   "outputs": [
    {
     "data": {
      "text/plain": [
       "array([20, 20, 30, 40, 50])"
      ]
     },
     "execution_count": 13,
     "metadata": {},
     "output_type": "execute_result"
    }
   ],
   "source": [
    "integers[0]=20\n",
    "integers"
   ]
  },
  {
   "cell_type": "code",
   "execution_count": 16,
   "id": "b444680b",
   "metadata": {},
   "outputs": [
    {
     "data": {
      "text/plain": [
       "array([21, 20, 30, 40, 50])"
      ]
     },
     "execution_count": 16,
     "metadata": {},
     "output_type": "execute_result"
    }
   ],
   "source": [
    "integers[0]=21.5\n",
    "integers"
   ]
  },
  {
   "cell_type": "code",
   "execution_count": 17,
   "id": "af2ec1ec",
   "metadata": {},
   "outputs": [
    {
     "data": {
      "text/plain": [
       "dtype('int32')"
      ]
     },
     "execution_count": 17,
     "metadata": {},
     "output_type": "execute_result"
    }
   ],
   "source": [
    "integers.dtype"
   ]
  },
  {
   "cell_type": "code",
   "execution_count": 19,
   "id": "5c5bf469",
   "metadata": {},
   "outputs": [
    {
     "data": {
      "text/plain": [
       "array([21, 20, 30, 40, 50], dtype=int8)"
      ]
     },
     "execution_count": 19,
     "metadata": {},
     "output_type": "execute_result"
    }
   ],
   "source": [
    "smallerIntegers=np.array(integers, dtype=np.int8)\n",
    "smallerIntegers"
   ]
  },
  {
   "cell_type": "code",
   "execution_count": 20,
   "id": "778946ef",
   "metadata": {},
   "outputs": [
    {
     "data": {
      "text/plain": [
       "20"
      ]
     },
     "execution_count": 20,
     "metadata": {},
     "output_type": "execute_result"
    }
   ],
   "source": [
    "integers.nbytes"
   ]
  },
  {
   "cell_type": "code",
   "execution_count": 21,
   "id": "b553efaa",
   "metadata": {},
   "outputs": [
    {
     "data": {
      "text/plain": [
       "5"
      ]
     },
     "execution_count": 21,
     "metadata": {},
     "output_type": "execute_result"
    }
   ],
   "source": [
    "smallerIntegers.nbytes"
   ]
  },
  {
   "cell_type": "code",
   "execution_count": 23,
   "id": "13e71678",
   "metadata": {},
   "outputs": [
    {
     "data": {
      "text/plain": [
       "array([ 127, -128, -127], dtype=int8)"
      ]
     },
     "execution_count": 23,
     "metadata": {},
     "output_type": "execute_result"
    }
   ],
   "source": [
    "overflow = np.array([127,128,129], dtype = np.int8)\n",
    "overflow"
   ]
  },
  {
   "cell_type": "code",
   "execution_count": 25,
   "id": "6c5e62ea",
   "metadata": {},
   "outputs": [
    {
     "name": "stdout",
     "output_type": "stream",
     "text": [
      "[1.2 2.3 3.4 4.5 5.1 8.3]\n"
     ]
    }
   ],
   "source": [
    "floats=np.array([1.2,2.3,3.4,4.5,5.1,8.3])\n",
    "print(floats)"
   ]
  },
  {
   "cell_type": "code",
   "execution_count": 26,
   "id": "4a39a80d",
   "metadata": {},
   "outputs": [
    {
     "data": {
      "text/plain": [
       "dtype('float64')"
      ]
     },
     "execution_count": 26,
     "metadata": {},
     "output_type": "execute_result"
    }
   ],
   "source": [
    "floats.dtype"
   ]
  },
  {
   "cell_type": "markdown",
   "id": "f19556bb",
   "metadata": {},
   "source": [
    "02_02 Multidementional arrays"
   ]
  },
  {
   "cell_type": "code",
   "execution_count": 29,
   "id": "a506751e",
   "metadata": {},
   "outputs": [],
   "source": [
    "import numpy as np\n"
   ]
  },
  {
   "cell_type": "code",
   "execution_count": 30,
   "id": "2406e5f5",
   "metadata": {},
   "outputs": [
    {
     "data": {
      "text/plain": [
       "array([[ 1,  2,  3,  4,  5],\n",
       "       [ 6,  7,  8,  9, 10]])"
      ]
     },
     "execution_count": 30,
     "metadata": {},
     "output_type": "execute_result"
    }
   ],
   "source": [
    "nums = np.array([[1,2,3,4,5],[6,7,8,9,10]])\n",
    "nums"
   ]
  },
  {
   "cell_type": "code",
   "execution_count": 31,
   "id": "a69e781b",
   "metadata": {},
   "outputs": [
    {
     "data": {
      "text/plain": [
       "1"
      ]
     },
     "execution_count": 31,
     "metadata": {},
     "output_type": "execute_result"
    }
   ],
   "source": [
    "nums[0,0]"
   ]
  },
  {
   "cell_type": "code",
   "execution_count": 32,
   "id": "75e2b67e",
   "metadata": {},
   "outputs": [
    {
     "data": {
      "text/plain": [
       "10"
      ]
     },
     "execution_count": 32,
     "metadata": {},
     "output_type": "execute_result"
    }
   ],
   "source": [
    "nums[1,4]"
   ]
  },
  {
   "cell_type": "code",
   "execution_count": 33,
   "id": "d0a8b140",
   "metadata": {},
   "outputs": [
    {
     "data": {
      "text/plain": [
       "2"
      ]
     },
     "execution_count": 33,
     "metadata": {},
     "output_type": "execute_result"
    }
   ],
   "source": [
    "nums.ndim"
   ]
  },
  {
   "cell_type": "code",
   "execution_count": 37,
   "id": "1a8bb2b8",
   "metadata": {},
   "outputs": [
    {
     "data": {
      "text/plain": [
       "array([[[ 1,  2,  3],\n",
       "        [ 4,  5,  6]],\n",
       "\n",
       "       [[ 7,  8,  9],\n",
       "        [10, 11, 12]]])"
      ]
     },
     "execution_count": 37,
     "metadata": {},
     "output_type": "execute_result"
    }
   ],
   "source": [
    "multi_arr=np.array([[[1,2,3],[4,5,6]],[[7,8,9],[10,11,12]]])\n",
    "multi_arr"
   ]
  },
  {
   "cell_type": "code",
   "execution_count": 38,
   "id": "4e97f79c",
   "metadata": {},
   "outputs": [
    {
     "data": {
      "text/plain": [
       "9"
      ]
     },
     "execution_count": 38,
     "metadata": {},
     "output_type": "execute_result"
    }
   ],
   "source": [
    "multi_arr[1,0,2]"
   ]
  },
  {
   "cell_type": "markdown",
   "id": "76721ee9",
   "metadata": {},
   "source": [
    "02_03\n",
    "Creating array from lists and other python structures"
   ]
  },
  {
   "cell_type": "code",
   "execution_count": 39,
   "id": "7b84b921",
   "metadata": {},
   "outputs": [],
   "source": [
    "import numpy as no"
   ]
  },
  {
   "cell_type": "code",
   "execution_count": 40,
   "id": "ff4c4dc8",
   "metadata": {},
   "outputs": [
    {
     "data": {
      "text/plain": [
       "[1, 2, 3, 4, 5, 6, 7, 8, 9, 10]"
      ]
     },
     "execution_count": 40,
     "metadata": {},
     "output_type": "execute_result"
    }
   ],
   "source": [
    "first_list= [1,2,3,4,5,6,7,8,9,10]\n",
    "first_list"
   ]
  },
  {
   "cell_type": "code",
   "execution_count": 41,
   "id": "87b654d7",
   "metadata": {},
   "outputs": [
    {
     "data": {
      "text/plain": [
       "array([ 1,  2,  3,  4,  5,  6,  7,  8,  9, 10])"
      ]
     },
     "execution_count": 41,
     "metadata": {},
     "output_type": "execute_result"
    }
   ],
   "source": [
    "first_array= np.array(first_list)\n",
    "first_array"
   ]
  },
  {
   "cell_type": "code",
   "execution_count": 42,
   "id": "e29ce643",
   "metadata": {},
   "outputs": [],
   "source": [
    "second_list = [1,2,3,-1.23,50,128000.56,4.56]"
   ]
  },
  {
   "cell_type": "code",
   "execution_count": 45,
   "id": "cb9c973a",
   "metadata": {},
   "outputs": [
    {
     "data": {
      "text/plain": [
       "array([ 1.0000000e+00,  2.0000000e+00,  3.0000000e+00, -1.2300000e+00,\n",
       "        5.0000000e+01,  1.2800056e+05,  4.5600000e+00])"
      ]
     },
     "execution_count": 45,
     "metadata": {},
     "output_type": "execute_result"
    }
   ],
   "source": [
    "second_array = np.array(second_list)\n",
    "second_array"
   ]
  },
  {
   "cell_type": "code",
   "execution_count": 46,
   "id": "c6f9d476",
   "metadata": {},
   "outputs": [
    {
     "data": {
      "text/plain": [
       "dtype('float64')"
      ]
     },
     "execution_count": 46,
     "metadata": {},
     "output_type": "execute_result"
    }
   ],
   "source": [
    "second_array.dtype"
   ]
  },
  {
   "cell_type": "code",
   "execution_count": 48,
   "id": "42ef27fc",
   "metadata": {},
   "outputs": [],
   "source": [
    "third_list=['Ann', 111111,'Peter',11112,'Susan',11113,'John',11114]"
   ]
  },
  {
   "cell_type": "code",
   "execution_count": 51,
   "id": "f62fb2a8",
   "metadata": {},
   "outputs": [
    {
     "data": {
      "text/plain": [
       "array(['Ann', '111111', 'Peter', '11112', 'Susan', '11113', 'John',\n",
       "       '11114'], dtype='<U11')"
      ]
     },
     "execution_count": 51,
     "metadata": {},
     "output_type": "execute_result"
    }
   ],
   "source": [
    "third_array=np.array(third_list)\n",
    "third_array"
   ]
  },
  {
   "cell_type": "code",
   "execution_count": 53,
   "id": "e87f0d40",
   "metadata": {},
   "outputs": [],
   "source": [
    "first_tuple=(5,10,15,20,25,30)"
   ]
  },
  {
   "cell_type": "code",
   "execution_count": 54,
   "id": "82addff6",
   "metadata": {},
   "outputs": [
    {
     "data": {
      "text/plain": [
       "array([ 5, 10, 15, 20, 25, 30])"
      ]
     },
     "execution_count": 54,
     "metadata": {},
     "output_type": "execute_result"
    }
   ],
   "source": [
    "array_from_tuple=np.array(first_tuple)\n",
    "array_from_tuple"
   ]
  },
  {
   "cell_type": "code",
   "execution_count": 55,
   "id": "e3b06d21",
   "metadata": {},
   "outputs": [
    {
     "data": {
      "text/plain": [
       "dtype('int32')"
      ]
     },
     "execution_count": 55,
     "metadata": {},
     "output_type": "execute_result"
    }
   ],
   "source": [
    "array_from_tuple.dtype"
   ]
  },
  {
   "cell_type": "code",
   "execution_count": 56,
   "id": "f41f4ecd",
   "metadata": {},
   "outputs": [],
   "source": [
    "multi_dim_list=[[[0,1,2],[3,4,5]],[[6,7,8],[9,10,11]]]"
   ]
  },
  {
   "cell_type": "code",
   "execution_count": 58,
   "id": "b937fdb1",
   "metadata": {},
   "outputs": [
    {
     "data": {
      "text/plain": [
       "array([[[ 0,  1,  2],\n",
       "        [ 3,  4,  5]],\n",
       "\n",
       "       [[ 6,  7,  8],\n",
       "        [ 9, 10, 11]]])"
      ]
     },
     "execution_count": 58,
     "metadata": {},
     "output_type": "execute_result"
    }
   ],
   "source": [
    "arr_from_multi_dim_list = np.array(multi_dim_list)\n",
    "arr_from_multi_dim_list"
   ]
  },
  {
   "cell_type": "code",
   "execution_count": null,
   "id": "32573e9b",
   "metadata": {},
   "outputs": [],
   "source": []
  }
 ],
 "metadata": {
  "kernelspec": {
   "display_name": "Python 3",
   "language": "python",
   "name": "python3"
  },
  "language_info": {
   "codemirror_mode": {
    "name": "ipython",
    "version": 3
   },
   "file_extension": ".py",
   "mimetype": "text/x-python",
   "name": "python",
   "nbconvert_exporter": "python",
   "pygments_lexer": "ipython3",
   "version": "3.8.8"
  }
 },
 "nbformat": 4,
 "nbformat_minor": 5
}
